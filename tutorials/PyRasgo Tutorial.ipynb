{
 "cells": [
  {
   "cell_type": "markdown",
   "metadata": {},
   "source": [
    "# PyRasgo Tutorial"
   ]
  },
  {
   "cell_type": "markdown",
   "metadata": {},
   "source": [
    "This notebook explains how to use `pyrasgo` to explore a dataset, track the impact of feature engineering and prune features at the end to produce a final dataframe.\n",
    "\n",
    "This notebook will use SHAP values from the `catboost` package to calculate feature impact to capture the impact of the feature engineering and prune features at the end of the tutorial."
   ]
  },
  {
   "cell_type": "markdown",
   "metadata": {},
   "source": [
    "### Packages"
   ]
  },
  {
   "cell_type": "markdown",
   "metadata": {},
   "source": [
    "This tutorial uses:\n",
    "* [pandas](https://pandas.pydata.org/docs/)\n",
    "* [statsmodels](https://www.statsmodels.org/stable/index.html)\n",
    "    * [statsmodels.api](https://www.statsmodels.org/stable/api.html#statsmodels-api)\n",
    "* [PyRasgo](https://app.gitbook.com/@rasgo/s/rasgo-docs/pyrasgo-0.1/dataframe-prep)"
   ]
  },
  {
   "cell_type": "markdown",
   "metadata": {},
   "source": [
    "Install pyrasgo if it is not already available"
   ]
  },
  {
   "cell_type": "code",
   "execution_count": 1,
   "metadata": {},
   "outputs": [],
   "source": [
    "#!pip install -U pyrasgo[df]"
   ]
  },
  {
   "cell_type": "code",
   "execution_count": 2,
   "metadata": {},
   "outputs": [],
   "source": [
    "import statsmodels.api as sm\n",
    "import pandas as pd\n",
    "import pyrasgo"
   ]
  },
  {
   "cell_type": "markdown",
   "metadata": {},
   "source": [
    "## Connect to Rasgo"
   ]
  },
  {
   "cell_type": "markdown",
   "metadata": {},
   "source": [
    "NB: This only needs to be run the first time you use pyrasgo.  Enter your email and password to create an account."
   ]
  },
  {
   "cell_type": "code",
   "execution_count": 3,
   "metadata": {},
   "outputs": [],
   "source": [
    "#pyrasgo.register(email='<your email>', password='<your password>')"
   ]
  },
  {
   "cell_type": "markdown",
   "metadata": {},
   "source": [
    "Enter the email and password you used at registration to connect to Rasgo."
   ]
  },
  {
   "cell_type": "code",
   "execution_count": 4,
   "metadata": {},
   "outputs": [],
   "source": [
    "rasgo = pyrasgo.login(email='<your email>', password='<your password>')"
   ]
  },
  {
   "cell_type": "markdown",
   "metadata": {},
   "source": [
    "## Reading the data"
   ]
  },
  {
   "cell_type": "markdown",
   "metadata": {},
   "source": [
    "The data is from `rdatasets` imported using the Python package `statsmodels`."
   ]
  },
  {
   "cell_type": "code",
   "execution_count": 5,
   "metadata": {},
   "outputs": [
    {
     "name": "stdout",
     "output_type": "stream",
     "text": [
      "<class 'pandas.core.frame.DataFrame'>\n",
      "RangeIndex: 9132 entries, 0 to 9131\n",
      "Data columns (total 3 columns):\n",
      " #   Column  Non-Null Count  Dtype  \n",
      "---  ------  --------------  -----  \n",
      " 0   date    9132 non-null   object \n",
      " 1   gold    9132 non-null   float64\n",
      " 2   silver  9132 non-null   float64\n",
      "dtypes: float64(2), object(1)\n",
      "memory usage: 214.2+ KB\n"
     ]
    }
   ],
   "source": [
    "df = sm.datasets.get_rdataset('GoldSilver', 'AER').data.reset_index().rename(columns={'index': 'date'})\n",
    "df.info()"
   ]
  },
  {
   "cell_type": "markdown",
   "metadata": {},
   "source": [
    "### Create target"
   ]
  },
  {
   "cell_type": "markdown",
   "metadata": {},
   "source": [
    "The target will be the gold price in one week.  **target_df** is created to hold the future gold price and it will be merged back into the original dataframe to create the initial dataframe to be analyzed.  For ease, **target** will be set to **future_gold_price** here."
   ]
  },
  {
   "cell_type": "code",
   "execution_count": 6,
   "metadata": {},
   "outputs": [
    {
     "data": {
      "text/html": [
       "<div>\n",
       "<style scoped>\n",
       "    .dataframe tbody tr th:only-of-type {\n",
       "        vertical-align: middle;\n",
       "    }\n",
       "\n",
       "    .dataframe tbody tr th {\n",
       "        vertical-align: top;\n",
       "    }\n",
       "\n",
       "    .dataframe thead th {\n",
       "        text-align: right;\n",
       "    }\n",
       "</style>\n",
       "<table border=\"1\" class=\"dataframe\">\n",
       "  <thead>\n",
       "    <tr style=\"text-align: right;\">\n",
       "      <th></th>\n",
       "      <th>date</th>\n",
       "      <th>future_gold_price</th>\n",
       "    </tr>\n",
       "  </thead>\n",
       "  <tbody>\n",
       "    <tr>\n",
       "      <th>0</th>\n",
       "      <td>1977-12-23</td>\n",
       "      <td>100.00</td>\n",
       "    </tr>\n",
       "    <tr>\n",
       "      <th>1</th>\n",
       "      <td>1977-12-26</td>\n",
       "      <td>100.00</td>\n",
       "    </tr>\n",
       "    <tr>\n",
       "      <th>2</th>\n",
       "      <td>1977-12-27</td>\n",
       "      <td>100.00</td>\n",
       "    </tr>\n",
       "    <tr>\n",
       "      <th>3</th>\n",
       "      <td>1977-12-28</td>\n",
       "      <td>100.00</td>\n",
       "    </tr>\n",
       "    <tr>\n",
       "      <th>4</th>\n",
       "      <td>1977-12-29</td>\n",
       "      <td>100.00</td>\n",
       "    </tr>\n",
       "    <tr>\n",
       "      <th>...</th>\n",
       "      <td>...</td>\n",
       "      <td>...</td>\n",
       "    </tr>\n",
       "    <tr>\n",
       "      <th>9127</th>\n",
       "      <td>2012-12-18</td>\n",
       "      <td>906.96</td>\n",
       "    </tr>\n",
       "    <tr>\n",
       "      <th>9128</th>\n",
       "      <td>2012-12-19</td>\n",
       "      <td>907.61</td>\n",
       "    </tr>\n",
       "    <tr>\n",
       "      <th>9129</th>\n",
       "      <td>2012-12-20</td>\n",
       "      <td>909.26</td>\n",
       "    </tr>\n",
       "    <tr>\n",
       "      <th>9130</th>\n",
       "      <td>2012-12-21</td>\n",
       "      <td>905.00</td>\n",
       "    </tr>\n",
       "    <tr>\n",
       "      <th>9131</th>\n",
       "      <td>2012-12-24</td>\n",
       "      <td>915.88</td>\n",
       "    </tr>\n",
       "  </tbody>\n",
       "</table>\n",
       "<p>9132 rows × 2 columns</p>\n",
       "</div>"
      ],
      "text/plain": [
       "           date  future_gold_price\n",
       "0    1977-12-23             100.00\n",
       "1    1977-12-26             100.00\n",
       "2    1977-12-27             100.00\n",
       "3    1977-12-28             100.00\n",
       "4    1977-12-29             100.00\n",
       "...         ...                ...\n",
       "9127 2012-12-18             906.96\n",
       "9128 2012-12-19             907.61\n",
       "9129 2012-12-20             909.26\n",
       "9130 2012-12-21             905.00\n",
       "9131 2012-12-24             915.88\n",
       "\n",
       "[9132 rows x 2 columns]"
      ]
     },
     "execution_count": 6,
     "metadata": {},
     "output_type": "execute_result"
    }
   ],
   "source": [
    "df['date'] = pd.to_datetime(df.date)\n",
    "target_df = df[['date', 'gold']].copy()\n",
    "target_df['date'] = target_df.date - pd.to_timedelta('7 day')\n",
    "target_df.rename(columns={'gold': 'future_gold_price'}, inplace=True)\n",
    "target_df"
   ]
  },
  {
   "cell_type": "code",
   "execution_count": 7,
   "metadata": {},
   "outputs": [],
   "source": [
    "target = 'future_gold_price'"
   ]
  },
  {
   "cell_type": "code",
   "execution_count": 8,
   "metadata": {},
   "outputs": [],
   "source": [
    "training_df = df.merge(target_df, on='date', how='left')\n",
    "df = training_df[training_df.date < pd.to_datetime('2012-12-25')].ffill()"
   ]
  },
  {
   "cell_type": "markdown",
   "metadata": {},
   "source": [
    "## Feature engineering"
   ]
  },
  {
   "cell_type": "markdown",
   "metadata": {},
   "source": [
    "### Start experiment"
   ]
  },
  {
   "cell_type": "code",
   "execution_count": 9,
   "metadata": {},
   "outputs": [
    {
     "name": "stdout",
     "output_type": "stream",
     "text": [
      "Activated existing experiment with name Tutorial Experiment for dataframe: Nxn3BRZA7yjHQC6uYRxmjzbmpqQ5jKvK2IYW6JekPv0\n"
     ]
    }
   ],
   "source": [
    "rasgo.activate_experiment('Tutorial Experiment')"
   ]
  },
  {
   "cell_type": "markdown",
   "metadata": {},
   "source": [
    "### Profile starting data"
   ]
  },
  {
   "cell_type": "markdown",
   "metadata": {},
   "source": [
    "#### Generate feature profiles"
   ]
  },
  {
   "cell_type": "code",
   "execution_count": 10,
   "metadata": {},
   "outputs": [
    {
     "name": "stdout",
     "output_type": "stream",
     "text": [
      "Column date has an unrecognzied type. Profiling the column as string type.\n"
     ]
    }
   ],
   "source": [
    "response = rasgo.evaluate.profile(df)"
   ]
  },
  {
   "cell_type": "markdown",
   "metadata": {},
   "source": [
    "#### Calculate feature importance"
   ]
  },
  {
   "cell_type": "markdown",
   "metadata": {},
   "source": [
    "This generates a baseline to compare the impact of our feature engineering to."
   ]
  },
  {
   "cell_type": "code",
   "execution_count": 11,
   "metadata": {},
   "outputs": [
    {
     "name": "stdout",
     "output_type": "stream",
     "text": [
      "Calculating Feature Importance:   0%|          | 0/8 [00:00<?, ?step/s]Column date has an unrecognzied type. Profiling the column as string type.\n",
      "                                                                               \r"
     ]
    }
   ],
   "source": [
    "response = rasgo.evaluate.feature_importance(df, target_column=target)"
   ]
  },
  {
   "cell_type": "markdown",
   "metadata": {},
   "source": [
    "### Start feature engineering"
   ]
  },
  {
   "cell_type": "markdown",
   "metadata": {},
   "source": [
    "Create initial lag variables"
   ]
  },
  {
   "cell_type": "code",
   "execution_count": 12,
   "metadata": {},
   "outputs": [],
   "source": [
    "df['gold_lag1'] = df['gold'].shift(1)\n",
    "df['gold_lag7'] = df['gold'].shift(7)\n",
    "\n",
    "df['silver_lag1'] = df['silver'].shift(1)\n",
    "df['silver_lag7'] = df['silver'].shift(7)"
   ]
  },
  {
   "cell_type": "markdown",
   "metadata": {},
   "source": [
    "Calculate feature importance"
   ]
  },
  {
   "cell_type": "code",
   "execution_count": 13,
   "metadata": {},
   "outputs": [
    {
     "name": "stdout",
     "output_type": "stream",
     "text": [
      "Calculating Feature Importance:   0%|          | 0/8 [00:00<?, ?step/s]Column date has an unrecognzied type. Profiling the column as string type.\n",
      "                                                                               \r"
     ]
    }
   ],
   "source": [
    "response = rasgo.evaluate.feature_importance(df, target_column=target)"
   ]
  },
  {
   "cell_type": "markdown",
   "metadata": {},
   "source": [
    "#### Add more lag variables"
   ]
  },
  {
   "cell_type": "code",
   "execution_count": 14,
   "metadata": {},
   "outputs": [],
   "source": [
    "df['gold_lag14'] = df['gold'].shift(14)\n",
    "df['gold_lag60'] = df['gold'].shift(60)\n",
    "\n",
    "df['silver_lag14'] = df['silver'].shift(14)\n",
    "df['silver_lag60'] = df['silver'].shift(60)"
   ]
  },
  {
   "cell_type": "markdown",
   "metadata": {},
   "source": [
    "Again, check feature importance"
   ]
  },
  {
   "cell_type": "code",
   "execution_count": 15,
   "metadata": {
    "tags": []
   },
   "outputs": [
    {
     "name": "stdout",
     "output_type": "stream",
     "text": [
      "Calculating Feature Importance:   0%|          | 0/8 [00:00<?, ?step/s]Column date has an unrecognzied type. Profiling the column as string type.\n",
      "                                                                               \r"
     ]
    }
   ],
   "source": [
    "response = rasgo.evaluate.feature_importance(df, target_column=target)"
   ]
  },
  {
   "cell_type": "markdown",
   "metadata": {},
   "source": [
    "#### Calculate ratios of gold prices"
   ]
  },
  {
   "cell_type": "code",
   "execution_count": 16,
   "metadata": {},
   "outputs": [],
   "source": [
    "df['gold_to_last1'] = df['gold'] / df['gold_lag1']\n",
    "df['gold_to_last7'] = df['gold'] / df['gold_lag7']\n",
    "df['gold_to_last14'] = df['gold'] / df['gold_lag14']\n",
    "df['gold_to_last60'] = df['gold'] / df['gold_lag60']\n",
    "\n",
    "df['gold_1_to_last7'] = df['gold_lag1'] / df['gold_lag7']\n",
    "df['gold_1_to_last14'] = df['gold_lag1'] / df['gold_lag14']\n",
    "df['gold_7_to_last14'] = df['gold_lag7'] / df['gold_lag14']"
   ]
  },
  {
   "cell_type": "markdown",
   "metadata": {},
   "source": [
    "Check feature importance"
   ]
  },
  {
   "cell_type": "code",
   "execution_count": 17,
   "metadata": {},
   "outputs": [
    {
     "name": "stdout",
     "output_type": "stream",
     "text": [
      "Calculating Feature Importance:   0%|          | 0/8 [00:00<?, ?step/s]Column date has an unrecognzied type. Profiling the column as string type.\n",
      "                                                                               \r"
     ]
    }
   ],
   "source": [
    "response = rasgo.evaluate.feature_importance(df, target_column=target)"
   ]
  },
  {
   "cell_type": "code",
   "execution_count": 18,
   "metadata": {},
   "outputs": [],
   "source": [
    "#### Calculate difference in prices over time"
   ]
  },
  {
   "cell_type": "code",
   "execution_count": 19,
   "metadata": {},
   "outputs": [],
   "source": [
    "df['gold_minus_last1'] = df['gold'] - df['gold_lag1']\n",
    "df['gold_minus_last7'] = df['gold'] - df['gold_lag7']\n",
    "df['gold_minus_last14'] = df['gold'] - df['gold_lag14']\n",
    "df['gold_minus_last60'] = df['gold'] - df['gold_lag60']\n",
    "\n",
    "df['gold_1_minus_last7'] = df['gold_lag1'] - df['gold_lag7']\n",
    "df['gold_1_minus_last14'] = df['gold_lag1'] - df['gold_lag14']\n",
    "df['gold_7_minus_last14'] = df['gold_lag7'] - df['gold_lag14']"
   ]
  },
  {
   "cell_type": "markdown",
   "metadata": {},
   "source": [
    "Check feature importance"
   ]
  },
  {
   "cell_type": "code",
   "execution_count": 20,
   "metadata": {},
   "outputs": [
    {
     "name": "stdout",
     "output_type": "stream",
     "text": [
      "Calculating Feature Importance:   0%|          | 0/8 [00:00<?, ?step/s]Column date has an unrecognzied type. Profiling the column as string type.\n",
      "                                                                               \r"
     ]
    }
   ],
   "source": [
    "response = rasgo.evaluate.feature_importance(df, target_column=target)"
   ]
  },
  {
   "cell_type": "markdown",
   "metadata": {},
   "source": [
    "### Feature selection"
   ]
  },
  {
   "cell_type": "markdown",
   "metadata": {},
   "source": [
    "Keep top three-quarters of features"
   ]
  },
  {
   "cell_type": "code",
   "execution_count": 21,
   "metadata": {},
   "outputs": [
    {
     "name": "stdout",
     "output_type": "stream",
     "text": [
      "Prune Method: Keeping top 0.75 of features\n",
      "Calculating Feature Importance:   0%|          | 0/8 [00:00<?, ?step/s]Column date has an unrecognzied type. Profiling the column as string type.\n",
      "Dropped features not in top 0.75 pct: ['gold_to_last14', 'gold_to_last1', 'gold_1_to_last7', 'gold_1_minus_last7', 'gold_minus_last14', 'gold_1_to_last14']\n"
     ]
    }
   ],
   "source": [
    "df = rasgo.prune.features(df, target_column=target, top_n_pct=.75)"
   ]
  },
  {
   "cell_type": "markdown",
   "metadata": {},
   "source": [
    "Calculate the feature importance to check the impact of pruning the features"
   ]
  },
  {
   "cell_type": "code",
   "execution_count": 22,
   "metadata": {},
   "outputs": [
    {
     "name": "stdout",
     "output_type": "stream",
     "text": [
      "Calculating Feature Importance:   0%|          | 0/8 [00:00<?, ?step/s]Column date has an unrecognzied type. Profiling the column as string type.\n",
      "                                                                               \r"
     ]
    }
   ],
   "source": [
    "response = rasgo.evaluate.feature_importance(df, target_column=target)"
   ]
  },
  {
   "cell_type": "markdown",
   "metadata": {},
   "source": [
    "Trim another one-quarter of the features"
   ]
  },
  {
   "cell_type": "code",
   "execution_count": 23,
   "metadata": {},
   "outputs": [
    {
     "name": "stdout",
     "output_type": "stream",
     "text": [
      "Prune Method: Keeping top 0.75 of features\n",
      "Calculating Feature Importance:   0%|          | 0/8 [00:00<?, ?step/s]Column date has an unrecognzied type. Profiling the column as string type.\n",
      "Dropped features not in top 0.75 pct: ['silver_lag1', 'gold_to_last7', 'gold_7_to_last14', 'gold_minus_last1']\n"
     ]
    }
   ],
   "source": [
    "df = rasgo.prune.features(df, target_column=target, top_n_pct=.75)"
   ]
  },
  {
   "cell_type": "code",
   "execution_count": 24,
   "metadata": {
    "tags": []
   },
   "outputs": [
    {
     "name": "stdout",
     "output_type": "stream",
     "text": [
      "Calculating Feature Importance:   0%|          | 0/8 [00:00<?, ?step/s]Column date has an unrecognzied type. Profiling the column as string type.\n",
      "                                                                               \r"
     ]
    }
   ],
   "source": [
    "response = rasgo.evaluate.feature_importance(df, target_column=target)"
   ]
  },
  {
   "cell_type": "code",
   "execution_count": 25,
   "metadata": {},
   "outputs": [],
   "source": [
    "### End the experiment"
   ]
  },
  {
   "cell_type": "code",
   "execution_count": 26,
   "metadata": {},
   "outputs": [
    {
     "name": "stdout",
     "output_type": "stream",
     "text": [
      "Experiment ended\n"
     ]
    }
   ],
   "source": [
    "rasgo.end_experiment()"
   ]
  }
 ],
 "metadata": {
  "kernelspec": {
   "display_name": "Python 3",
   "language": "python",
   "name": "python3"
  },
  "language_info": {
   "codemirror_mode": {
    "name": "ipython",
    "version": 3
   },
   "file_extension": ".py",
   "mimetype": "text/x-python",
   "name": "python",
   "nbconvert_exporter": "python",
   "pygments_lexer": "ipython3",
   "version": "3.7.10"
  }
 },
 "nbformat": 4,
 "nbformat_minor": 4
}
